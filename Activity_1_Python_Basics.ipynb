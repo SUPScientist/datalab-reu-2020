{
  "nbformat": 4,
  "nbformat_minor": 0,
  "metadata": {
    "colab": {
      "name": "Activity 1 Python Basics.ipynb",
      "provenance": [],
      "collapsed_sections": []
    },
    "kernelspec": {
      "name": "python3",
      "display_name": "Python 3"
    }
  },
  "cells": [
    {
      "cell_type": "markdown",
      "metadata": {
        "id": "QxxH0AcX15bs"
      },
      "source": [
        "# Activity 1 - Python Basics & NDBC Weather Data\n",
        "**2020 Data Labs REU**\n",
        "\n",
        "*Written by Sage Lichtenwalner, Rutgers University, June 9, 2020*  \n",
        "Modified by Phil Bresnahan for UNCW's OCN 350 (Advanced Oceanography) class. \n",
        "\n",
        "[![Open in Colab](https://colab.research.google.com/assets/colab-badge.svg)](https://colab.research.google.com/github/SUPScientist/datalab-reu-2020/blob/master/Activity_1_Python_Basics.ipynb)  \n",
        "To create the Open in Colab link, append the link to the notebook hosted in GitHub, starting with the username, to https://colab.research.google.com/github/.\n",
        "\n",
        "## Welcome to Python!  \n",
        "In this notebook, we will demonstrate how you can quickly get started programming in Python, using Google's cool [Colaboratory](https://colab.research.google.com) platform. Colab is basically a free service that can run Python/Jupyter notebooks in the cloud.\n",
        "\n",
        "In this notebook, we will demonstrate some of the basics of programming Python.  If you want to lean more, there are lots of other resources and training sessions out there, including the official [Python Tutorial](https://docs.python.org/3/tutorial/).  But as an oceanographer, you don't really need to know all the ins-and-outs of programming (though it helps), especially when just starting out.  \n",
        "\n",
        "Over the next few sessions we will cover many of the basic recipes you need to:\n",
        "* Quickly load some data\n",
        "* Make some quick plots, and make them look good\n",
        "* Calculate a few basic statistics and averages\n",
        "* And save the data to a new file you can use elsewhere.\n",
        "\n",
        "## Getting Started\n",
        "\n",
        "Jupyter notebooks have two kids of cells.  \"Markdown\" cells, like this one which can contain formatted text, and \"Code\" cells, which contain the code you will run.\n",
        "\n",
        "To execute the code in a cell, you can either:\n",
        "* click the **Play** icon on the left\n",
        "* type **Cmd (or Ctrl) + Enter** to run the cell in place \n",
        "* or type **Shift + Enter** to run the cell and move the focus to the next cell.\n",
        "\n",
        "You can try all these options on our first very elaborate piece of code in the next cell.\n",
        "\n",
        "After you execute the cell, the result will automatically display underneath the cell."
      ]
    },
    {
      "cell_type": "code",
      "metadata": {
        "id": "gQSi2cI9_EZG",
        "colab": {
          "base_uri": "https://localhost:8080/"
        },
        "outputId": "c92a003d-ee8b-4481-a8db-bdeb8becfc9a"
      },
      "source": [
        "2+2"
      ],
      "execution_count": 1,
      "outputs": [
        {
          "output_type": "execute_result",
          "data": {
            "text/plain": [
              "4"
            ]
          },
          "metadata": {},
          "execution_count": 1
        }
      ]
    },
    {
      "cell_type": "code",
      "metadata": {
        "id": "0a6RP0OvBGpl",
        "colab": {
          "base_uri": "https://localhost:8080/"
        },
        "outputId": "993ac104-8f16-4819-96d4-4c8c975f9d07"
      },
      "source": [
        "print(\"Hello, world!\")"
      ],
      "execution_count": 2,
      "outputs": [
        {
          "output_type": "stream",
          "name": "stdout",
          "text": [
            "Hello, world!\n"
          ]
        }
      ]
    },
    {
      "cell_type": "code",
      "metadata": {
        "id": "Dvqpvyi2BKOv"
      },
      "source": [
        "# This is a comment"
      ],
      "execution_count": 3,
      "outputs": []
    },
    {
      "cell_type": "markdown",
      "metadata": {
        "id": "U9BweOkrFcf_"
      },
      "source": [
        "As we go through the notebooks, you can add your own comments or text blocks to save your notes."
      ]
    },
    {
      "cell_type": "code",
      "metadata": {
        "id": "wYHhEJnwBnsY",
        "colab": {
          "base_uri": "https://localhost:8080/"
        },
        "outputId": "5da805c0-2cb3-4a9b-848d-fc316a495bfb"
      },
      "source": [
        "# Your Turn: Create your own print() command here with your name\n",
        "print()"
      ],
      "execution_count": 4,
      "outputs": [
        {
          "output_type": "stream",
          "name": "stdout",
          "text": [
            "\n"
          ]
        }
      ]
    },
    {
      "cell_type": "markdown",
      "metadata": {
        "id": "i4k796DieJ0_"
      },
      "source": [
        "**A note about print()**\n",
        "\n",
        "* By default, a Colab/Jupyter notebook will print out the output from the last line, so you don't have to specify the `print()` command.  \n",
        "* However, if we want to output the results from additional lines (as we do below), we need to use `print()` on each line.\n",
        "* Sometimes, you can suppress the output from the last line by adding a semi-colon `;` at the end."
      ]
    },
    {
      "cell_type": "code",
      "metadata": {
        "id": "hP7VTnDB_dRh",
        "colab": {
          "base_uri": "https://localhost:8080/"
        },
        "outputId": "5ca965ea-642f-4a52-c57a-6856b53ddd61"
      },
      "source": [
        "3\n",
        "4\n",
        "5"
      ],
      "execution_count": 5,
      "outputs": [
        {
          "output_type": "execute_result",
          "data": {
            "text/plain": [
              "5"
            ]
          },
          "metadata": {},
          "execution_count": 5
        }
      ]
    },
    {
      "cell_type": "code",
      "metadata": {
        "id": "rbULmpXCFJIZ",
        "colab": {
          "base_uri": "https://localhost:8080/"
        },
        "outputId": "1b63a2b0-b810-47f5-b9ab-a462dec3ffbb"
      },
      "source": [
        "print(3)\n",
        "print(4)\n",
        "print(5)"
      ],
      "execution_count": 6,
      "outputs": [
        {
          "output_type": "stream",
          "name": "stdout",
          "text": [
            "3\n",
            "4\n",
            "5\n"
          ]
        }
      ]
    },
    {
      "cell_type": "markdown",
      "metadata": {
        "id": "Jr_Htihg_E7B"
      },
      "source": [
        "## Some Basics\n",
        "Let's review a few basic features of programming.  \n",
        "\n",
        "First, it's great for math.  You can use addition (+), subtraction (-), multiplication (\\*), division (/) and exponents (**)."
      ]
    },
    {
      "cell_type": "code",
      "metadata": {
        "id": "NlDw--ocCZ28",
        "colab": {
          "base_uri": "https://localhost:8080/"
        },
        "outputId": "6a1f19e7-d66b-4e59-cf49-695b3105e248"
      },
      "source": [
        "# Your Turn: Try some math here\n",
        "5*2"
      ],
      "execution_count": 7,
      "outputs": [
        {
          "output_type": "execute_result",
          "data": {
            "text/plain": [
              "10"
            ]
          },
          "metadata": {},
          "execution_count": 7
        }
      ]
    },
    {
      "cell_type": "code",
      "metadata": {
        "id": "no8yF2N2GDoP",
        "outputId": "c1f8a0dd-3f04-4e10-be74-c43d38e62696",
        "colab": {
          "base_uri": "https://localhost:8080/"
        }
      },
      "source": [
        "# How about some potentially unexpected notation\n",
        "5**2"
      ],
      "execution_count": 8,
      "outputs": [
        {
          "output_type": "execute_result",
          "data": {
            "text/plain": [
              "25"
            ]
          },
          "metadata": {},
          "execution_count": 8
        }
      ]
    },
    {
      "cell_type": "markdown",
      "metadata": {
        "id": "1THCSL0kCbYF"
      },
      "source": [
        "The order of operations is also important.  \n",
        "Did you learn \"Please Excuse My Dear Aunt Sally\" for order of operations?\n",
        "- **P**arentheses\n",
        "- **E**xponents\n",
        "- **M**ultiplication\n",
        "- **D**ivision\n",
        "- **A**ddition \n",
        "- **S**ubtraction"
      ]
    },
    {
      "cell_type": "code",
      "metadata": {
        "id": "k5YEVycoCdco",
        "colab": {
          "base_uri": "https://localhost:8080/"
        },
        "outputId": "30404e90-b9db-4f9a-bd51-0c2f79824438"
      },
      "source": [
        "print(5 * 2 + 3)\n",
        "print(5 * (2+3))\n",
        "print((5 * 2) + 3)"
      ],
      "execution_count": 9,
      "outputs": [
        {
          "output_type": "stream",
          "name": "stdout",
          "text": [
            "13\n",
            "25\n",
            "13\n"
          ]
        }
      ]
    },
    {
      "cell_type": "markdown",
      "metadata": {
        "id": "nE9GQeevCveA"
      },
      "source": [
        "## Variables"
      ]
    },
    {
      "cell_type": "code",
      "metadata": {
        "id": "3Fao5FUxA8Me"
      },
      "source": [
        "# We can eailsy assign variables, just like in other languages\n",
        "x = 4\n",
        "y = 2.5"
      ],
      "execution_count": 11,
      "outputs": []
    },
    {
      "cell_type": "code",
      "metadata": {
        "id": "Cv6oBNDLA91Q",
        "colab": {
          "base_uri": "https://localhost:8080/"
        },
        "outputId": "9b65f8b1-93b5-4aae-961a-e4cd3211d9a1"
      },
      "source": [
        "# And we can use them in our formulas\n",
        "print(x + y)\n",
        "print(x/y)"
      ],
      "execution_count": 12,
      "outputs": [
        {
          "output_type": "stream",
          "name": "stdout",
          "text": [
            "6.5\n",
            "1.6\n"
          ]
        }
      ]
    },
    {
      "cell_type": "code",
      "metadata": {
        "id": "2_x4zV7LFCcs",
        "colab": {
          "base_uri": "https://localhost:8080/"
        },
        "outputId": "cea1f71e-d3bc-4398-9dd9-377a8398675a"
      },
      "source": [
        "# What kind of objects are these?\n",
        "print(type(x))\n",
        "print(type(y))"
      ],
      "execution_count": 13,
      "outputs": [
        {
          "output_type": "stream",
          "name": "stdout",
          "text": [
            "<class 'int'>\n",
            "<class 'float'>\n"
          ]
        }
      ]
    },
    {
      "cell_type": "markdown",
      "metadata": {
        "id": "AcUxD7ehCxRf"
      },
      "source": [
        "## Strings"
      ]
    },
    {
      "cell_type": "code",
      "metadata": {
        "id": "uXF3zKv6_zxt",
        "colab": {
          "base_uri": "https://localhost:8080/",
          "height": 35
        },
        "outputId": "a2c1c092-b15b-49fb-e68b-d542f384e4d7"
      },
      "source": [
        "# A string needs to be in quotes (single or double)\n",
        "z = 'Python is great'\n",
        "z"
      ],
      "execution_count": 14,
      "outputs": [
        {
          "output_type": "execute_result",
          "data": {
            "application/vnd.google.colaboratory.intrinsic+json": {
              "type": "string"
            },
            "text/plain": [
              "'Python is great'"
            ]
          },
          "metadata": {},
          "execution_count": 14
        }
      ]
    },
    {
      "cell_type": "code",
      "metadata": {
        "id": "c9J1ge3xHAUH",
        "outputId": "a4ce34d9-686e-4b6d-9b96-b837a7ce4e93",
        "colab": {
          "base_uri": "https://localhost:8080/"
        }
      },
      "source": [
        "print(type(z))"
      ],
      "execution_count": 16,
      "outputs": [
        {
          "output_type": "stream",
          "name": "stdout",
          "text": [
            "<class 'str'>\n"
          ]
        }
      ]
    },
    {
      "cell_type": "code",
      "metadata": {
        "id": "jSjoVPLcAIDW",
        "colab": {
          "base_uri": "https://localhost:8080/",
          "height": 179
        },
        "outputId": "032235bf-daf2-43a7-d487-869ce90dfbc1"
      },
      "source": [
        "# You can't concatenate (add) strings and integers\n",
        "print( z + x )"
      ],
      "execution_count": 17,
      "outputs": [
        {
          "output_type": "error",
          "ename": "TypeError",
          "evalue": "ignored",
          "traceback": [
            "\u001b[0;31m---------------------------------------------------------------------------\u001b[0m",
            "\u001b[0;31mTypeError\u001b[0m                                 Traceback (most recent call last)",
            "\u001b[0;32m<ipython-input-17-45405ff52e40>\u001b[0m in \u001b[0;36m<module>\u001b[0;34m()\u001b[0m\n\u001b[1;32m      1\u001b[0m \u001b[0;31m# You can't concatenate (add) strings and integers\u001b[0m\u001b[0;34m\u001b[0m\u001b[0;34m\u001b[0m\u001b[0;34m\u001b[0m\u001b[0m\n\u001b[0;32m----> 2\u001b[0;31m \u001b[0mprint\u001b[0m\u001b[0;34m(\u001b[0m \u001b[0mz\u001b[0m \u001b[0;34m+\u001b[0m \u001b[0mx\u001b[0m \u001b[0;34m)\u001b[0m\u001b[0;34m\u001b[0m\u001b[0;34m\u001b[0m\u001b[0m\n\u001b[0m",
            "\u001b[0;31mTypeError\u001b[0m: can only concatenate str (not \"int\") to str"
          ]
        }
      ]
    },
    {
      "cell_type": "code",
      "metadata": {
        "id": "CtSvgM4yAJe7",
        "colab": {
          "base_uri": "https://localhost:8080/"
        },
        "outputId": "7d21dcee-622b-4bcb-ba48-95a70ad8f194"
      },
      "source": [
        "# But you can multiply them!\n",
        "print( z * x )"
      ],
      "execution_count": 18,
      "outputs": [
        {
          "output_type": "stream",
          "name": "stdout",
          "text": [
            "Python is greatPython is greatPython is greatPython is great\n"
          ]
        }
      ]
    },
    {
      "cell_type": "code",
      "metadata": {
        "id": "f1UOtr7HALCG",
        "colab": {
          "base_uri": "https://localhost:8080/"
        },
        "outputId": "6fd6160b-1595-45e6-ef17-fc00f66c603c"
      },
      "source": [
        "# If you convert an integer into a string, you can then catenate them\n",
        "print(x)\n",
        "print(z)\n",
        "print( z + ' ' + str(x) + ' you!' )"
      ],
      "execution_count": 20,
      "outputs": [
        {
          "output_type": "stream",
          "name": "stdout",
          "text": [
            "4\n",
            "Python is great\n",
            "Python is great 4 you!\n"
          ]
        }
      ]
    },
    {
      "cell_type": "code",
      "metadata": {
        "id": "-zCETuuXAMqr",
        "colab": {
          "base_uri": "https://localhost:8080/"
        },
        "outputId": "4e36e73c-de8a-44e5-e0ed-5916d009cabb"
      },
      "source": [
        "# A better way\n",
        "print( 'Python is great %s you!' % x )"
      ],
      "execution_count": 21,
      "outputs": [
        {
          "output_type": "stream",
          "name": "stdout",
          "text": [
            "Python is great 4 you!\n"
          ]
        }
      ]
    },
    {
      "cell_type": "markdown",
      "metadata": {
        "id": "zenkK_sXAPBs"
      },
      "source": [
        "## Fun with Lists\n",
        "Python uses 0-based indexes, so to grab the first element in a list you actually use \"0\".  The last element is n-1, or just \"-1\" for short. In Matlab this would be 1 to n, or 1:end.\n",
        "\n",
        "Let's take a look at this on the blackboard..."
      ]
    },
    {
      "cell_type": "code",
      "metadata": {
        "id": "JTCl0vHGAPur"
      },
      "source": [
        "my_list = [3, 4, 5, 9, 12, 13]"
      ],
      "execution_count": 22,
      "outputs": []
    },
    {
      "cell_type": "code",
      "metadata": {
        "id": "JcwapC7kAP7Q",
        "colab": {
          "base_uri": "https://localhost:8080/"
        },
        "outputId": "cf65bb56-ddd0-45d0-928f-6806480c1c80"
      },
      "source": [
        "# The fist item\n",
        "my_list[0]"
      ],
      "execution_count": 23,
      "outputs": [
        {
          "output_type": "execute_result",
          "data": {
            "text/plain": [
              "3"
            ]
          },
          "metadata": {},
          "execution_count": 23
        }
      ]
    },
    {
      "cell_type": "code",
      "metadata": {
        "id": "0oLk1TaYAP_0",
        "colab": {
          "base_uri": "https://localhost:8080/"
        },
        "outputId": "5f72ce03-1bec-4b87-e808-e05e15889021"
      },
      "source": [
        "# The last item\n",
        "my_list[-1]"
      ],
      "execution_count": 24,
      "outputs": [
        {
          "output_type": "execute_result",
          "data": {
            "text/plain": [
              "13"
            ]
          },
          "metadata": {},
          "execution_count": 24
        }
      ]
    },
    {
      "cell_type": "code",
      "metadata": {
        "id": "2hpVK9V8AP0T",
        "colab": {
          "base_uri": "https://localhost:8080/"
        },
        "outputId": "2113f990-9f45-45dc-d078-22685733840c"
      },
      "source": [
        "# Extract a subset\n",
        "my_list[2:5]"
      ],
      "execution_count": 25,
      "outputs": [
        {
          "output_type": "execute_result",
          "data": {
            "text/plain": [
              "[5, 9, 12]"
            ]
          },
          "metadata": {},
          "execution_count": 25
        }
      ]
    },
    {
      "cell_type": "code",
      "metadata": {
        "id": "B4CYNZoKV-fq",
        "colab": {
          "base_uri": "https://localhost:8080/"
        },
        "outputId": "6ed74fdc-fbbe-4afe-a9d5-c3a1d24aae73"
      },
      "source": [
        "# A subset from the end\n",
        "my_list[-3:]"
      ],
      "execution_count": 26,
      "outputs": [
        {
          "output_type": "execute_result",
          "data": {
            "text/plain": [
              "[9, 12, 13]"
            ]
          },
          "metadata": {},
          "execution_count": 26
        }
      ]
    },
    {
      "cell_type": "code",
      "metadata": {
        "id": "N4fVWQaQAPzS",
        "colab": {
          "base_uri": "https://localhost:8080/"
        },
        "outputId": "4b3aced5-d43c-4767-cf9a-b638dbe5469d"
      },
      "source": [
        "# Update a value\n",
        "my_list[3] = 99\n",
        "my_list"
      ],
      "execution_count": 27,
      "outputs": [
        {
          "output_type": "execute_result",
          "data": {
            "text/plain": [
              "[3, 4, 5, 99, 12, 13]"
            ]
          },
          "metadata": {},
          "execution_count": 27
        }
      ]
    },
    {
      "cell_type": "code",
      "metadata": {
        "id": "vWLYxQ3AAaDU",
        "colab": {
          "base_uri": "https://localhost:8080/"
        },
        "outputId": "283fefbf-244f-4c55-dea5-00eb22a491a1"
      },
      "source": [
        "# Warning, Python variables are object references and not copies by default\n",
        "my_second_list = my_list\n",
        "print( my_second_list )\n",
        "\n",
        "my_second_list[0] = 66\n",
        "\n",
        "print( my_second_list )\n",
        "print( my_list ) # The first list has been overwritten"
      ],
      "execution_count": 28,
      "outputs": [
        {
          "output_type": "stream",
          "name": "stdout",
          "text": [
            "[3, 4, 5, 99, 12, 13]\n",
            "[66, 4, 5, 99, 12, 13]\n",
            "[66, 4, 5, 99, 12, 13]\n"
          ]
        }
      ]
    },
    {
      "cell_type": "code",
      "metadata": {
        "id": "jsBIFXDRAbyB",
        "colab": {
          "base_uri": "https://localhost:8080/"
        },
        "outputId": "94365d21-f7f5-4c41-a418-fd0a89098a94"
      },
      "source": [
        "# To avoid this, create a copy of the list, which keeps the original intact\n",
        "my_list = [3, 4, 5, 9, 12]\n",
        "\n",
        "my_second_list = list(my_list) # You can also use copy.copy() or my_list[:]\n",
        "\n",
        "my_second_list[0] = 66\n",
        "\n",
        "print( my_second_list )\n",
        "print( my_list )"
      ],
      "execution_count": 29,
      "outputs": [
        {
          "output_type": "stream",
          "name": "stdout",
          "text": [
            "[66, 4, 5, 9, 12]\n",
            "[3, 4, 5, 9, 12]\n"
          ]
        }
      ]
    },
    {
      "cell_type": "markdown",
      "metadata": {
        "id": "kU1kERQCLFUu"
      },
      "source": [
        "## Arrays\n",
        "Note, a list is not an array by default.  But we can turn it into an array using the *NumPy* library.\n",
        "\n",
        "NumPy is an essential library for working with scientific data. It provides an array object that is very similar to Matlab's array functionality, allowing you to perform mathematical calculations or run linear algebra routines."
      ]
    },
    {
      "cell_type": "code",
      "metadata": {
        "id": "jnf1SA8wJo5F",
        "colab": {
          "base_uri": "https://localhost:8080/"
        },
        "outputId": "606f3f47-09cf-48d0-f443-22ba666a7b86"
      },
      "source": [
        "my_list * x"
      ],
      "execution_count": 30,
      "outputs": [
        {
          "output_type": "execute_result",
          "data": {
            "text/plain": [
              "[3, 4, 5, 9, 12, 3, 4, 5, 9, 12, 3, 4, 5, 9, 12, 3, 4, 5, 9, 12]"
            ]
          },
          "metadata": {},
          "execution_count": 30
        }
      ]
    },
    {
      "cell_type": "code",
      "metadata": {
        "id": "C8mZCShbWtHj"
      },
      "source": [
        "import numpy as np"
      ],
      "execution_count": 31,
      "outputs": []
    },
    {
      "cell_type": "code",
      "metadata": {
        "id": "D3-yiFQaJTAQ",
        "colab": {
          "base_uri": "https://localhost:8080/"
        },
        "outputId": "daa88c21-9260-450d-bf13-3eb124bb7ada"
      },
      "source": [
        "a = np.array(my_list)\n",
        "a * x"
      ],
      "execution_count": 32,
      "outputs": [
        {
          "output_type": "execute_result",
          "data": {
            "text/plain": [
              "array([12, 16, 20, 36, 48])"
            ]
          },
          "metadata": {},
          "execution_count": 32
        }
      ]
    },
    {
      "cell_type": "markdown",
      "metadata": {
        "id": "xhLtARB0WYOw"
      },
      "source": [
        "Note, we won't be explicitly creating NumPy arrays much in this course.  But later on, when we load datasets using Pandas or Xarray, the actually arrays under the hood will be numpy arrays."
      ]
    },
    {
      "cell_type": "markdown",
      "metadata": {
        "id": "QSsn4neWAdIK"
      },
      "source": [
        "## Dictionaries\n",
        "These are a great way to stored structured data of different types.  You'll often find metadata information inside dictionaries."
      ]
    },
    {
      "cell_type": "code",
      "metadata": {
        "id": "oAQykqhkAeHn",
        "colab": {
          "base_uri": "https://localhost:8080/"
        },
        "outputId": "c08f5483-384d-4a80-c2c0-9e29626beed3"
      },
      "source": [
        "my_dict = {'temperature': 21, 'salinity':35, 'sensor':'CTD 23'}\n",
        "my_dict"
      ],
      "execution_count": 33,
      "outputs": [
        {
          "output_type": "execute_result",
          "data": {
            "text/plain": [
              "{'salinity': 35, 'sensor': 'CTD 23', 'temperature': 21}"
            ]
          },
          "metadata": {},
          "execution_count": 33
        }
      ]
    },
    {
      "cell_type": "code",
      "metadata": {
        "id": "ADrxbbB7AhAC",
        "colab": {
          "base_uri": "https://localhost:8080/"
        },
        "outputId": "6fca56dd-33b4-4882-96da-da9790cd8264"
      },
      "source": [
        "# Grab a list of dictionary keys\n",
        "my_dict.keys()"
      ],
      "execution_count": 34,
      "outputs": [
        {
          "output_type": "execute_result",
          "data": {
            "text/plain": [
              "dict_keys(['temperature', 'salinity', 'sensor'])"
            ]
          },
          "metadata": {},
          "execution_count": 34
        }
      ]
    },
    {
      "cell_type": "code",
      "metadata": {
        "id": "ndmWw7lSAfu2",
        "colab": {
          "base_uri": "https://localhost:8080/",
          "height": 35
        },
        "outputId": "239259e8-398a-4c6f-93a6-07a78793155b"
      },
      "source": [
        "# Accessing a key/value pair\n",
        "my_dict['sensor']"
      ],
      "execution_count": 35,
      "outputs": [
        {
          "output_type": "execute_result",
          "data": {
            "application/vnd.google.colaboratory.intrinsic+json": {
              "type": "string"
            },
            "text/plain": [
              "'CTD 23'"
            ]
          },
          "metadata": {},
          "execution_count": 35
        }
      ]
    },
    {
      "cell_type": "markdown",
      "metadata": {
        "id": "vUPvO6YFAip2"
      },
      "source": [
        "## Functions, Conditions and Loops\n",
        "Sometimes we want to be able to do the same thing several times within our code. There are a number of ways to do this: for example, we could rewrite the same code every time we wanted to do it, we could determine if an existing module (like numpy) already has the function (like an average calculation), or we could write our own function.\n",
        "\n",
        "If you're familiar with how to do these in Matlab or R, it's all very similar, just with a different syntax. \n",
        "\n",
        "**Python uses spaces** to group together sub-elements, rather than parentheses, curly braces, or end statements. Traditionally, you can use 2 or 4 spaces to indent lines."
      ]
    },
    {
      "cell_type": "code",
      "metadata": {
        "id": "Qx0nnCutQG_5"
      },
      "source": [
        "def times_two(num):\n",
        "  return num * 2;"
      ],
      "execution_count": 36,
      "outputs": []
    },
    {
      "cell_type": "code",
      "metadata": {
        "id": "WdHlh20TQP5T",
        "colab": {
          "base_uri": "https://localhost:8080/"
        },
        "outputId": "a5924409-41c5-447e-b886-d08a14f47db5"
      },
      "source": [
        "times_two(3)"
      ],
      "execution_count": 37,
      "outputs": [
        {
          "output_type": "execute_result",
          "data": {
            "text/plain": [
              "6"
            ]
          },
          "metadata": {},
          "execution_count": 37
        }
      ]
    },
    {
      "cell_type": "code",
      "metadata": {
        "id": "ED6K9R49OuX3"
      },
      "source": [
        "def my_name(name='Sage'):\n",
        "  return name;"
      ],
      "execution_count": 38,
      "outputs": []
    },
    {
      "cell_type": "markdown",
      "metadata": {
        "id": "YCFlDUkBRzG6"
      },
      "source": [
        "Run the following cell with nothing inside the parentheses to see it run the function using the default input (i.e., Sage). Then put your name inside the parentheses to change the input. Try it with and without quotes."
      ]
    },
    {
      "cell_type": "code",
      "metadata": {
        "id": "nnNYgBDeOy5y",
        "colab": {
          "base_uri": "https://localhost:8080/",
          "height": 35
        },
        "outputId": "8749c44c-39a6-43f3-c72c-e0171197724a"
      },
      "source": [
        "my_name(\"Phil\")"
      ],
      "execution_count": 44,
      "outputs": [
        {
          "output_type": "execute_result",
          "data": {
            "application/vnd.google.colaboratory.intrinsic+json": {
              "type": "string"
            },
            "text/plain": [
              "'Phil'"
            ]
          },
          "metadata": {},
          "execution_count": 44
        }
      ]
    },
    {
      "cell_type": "markdown",
      "metadata": {
        "id": "IcPlKcJ1V3lm"
      },
      "source": [
        "Here one quick example that demonstrates how to define a function, use a conditional, and iterate over a for loop all at once."
      ]
    },
    {
      "cell_type": "code",
      "metadata": {
        "id": "L9H3VuppAlLP"
      },
      "source": [
        "# A more complicated function\n",
        "def my_func(number):\n",
        "  print('Running my_func')\n",
        "  if type(number)==int:\n",
        "    for i in range(number):\n",
        "      print(i)\n",
        "  else:\n",
        "    print(\"Not a number\")\n"
      ],
      "execution_count": 45,
      "outputs": []
    },
    {
      "cell_type": "code",
      "metadata": {
        "id": "nLhLban8HSSq",
        "colab": {
          "base_uri": "https://localhost:8080/"
        },
        "outputId": "db0b5d39-29f3-4556-883c-a82497f8252c"
      },
      "source": [
        "my_func('Test')"
      ],
      "execution_count": 46,
      "outputs": [
        {
          "output_type": "stream",
          "name": "stdout",
          "text": [
            "Running my_func\n",
            "Not a number\n"
          ]
        }
      ]
    },
    {
      "cell_type": "code",
      "metadata": {
        "id": "2hX4I3FvHRbe",
        "colab": {
          "base_uri": "https://localhost:8080/"
        },
        "outputId": "a8bf0751-1f44-4c3d-ddbe-12a523356594"
      },
      "source": [
        "my_func(4)"
      ],
      "execution_count": 47,
      "outputs": [
        {
          "output_type": "stream",
          "name": "stdout",
          "text": [
            "Running my_func\n",
            "0\n",
            "1\n",
            "2\n",
            "3\n"
          ]
        }
      ]
    },
    {
      "cell_type": "markdown",
      "metadata": {
        "id": "vY3zXFu9Hqxy"
      },
      "source": [
        "## Fun with NDBC Data\n",
        "Now that we've covered some basics, let's start having some fun with actual ocean data.\n",
        "\n",
        "The [National Data Buoy Center (NDBC)](https://www.ndbc.noaa.gov) provides a great dataset to start with.  And for this example, we'll use my favorite buoy [Station 44025](https://www.ndbc.noaa.gov/station_page.php?station=44025).\n",
        "\n",
        "![NDBC Mid-Atlantic Station Map](https://www.ndbc.noaa.gov/images/maps/NorthEast.gif)\n",
        "\n",
        "To load datasets like this, there are 2 popular libraries we can use.\n",
        "\n",
        "* Pandas\n",
        "  * Great for working with \"spreadsheet-like\" tables that have headers and rows, like Excel or CSV files\n",
        "  * Can easily load text or CSV files \n",
        "* Xarray\n",
        "  * Supports multidimensional arrays (e.g. x,y,z,t)\n",
        "  * Can open NetCDF files or data from Thredds servers which are common in Oceanography\n",
        "  * If you're using a Thredds server, you don't have to load all the data to use it\n",
        "\n",
        "NDBC actually makes their data available in a variety of ways.  Text files are often more intuitive.  However, the NDBC text files require a few hoops to load a use (each file is a separate year, dates are in multiple columns, etc.).\n",
        "\n",
        "Luckily, NDBC also provides a Thredds server [DODS](https://dods.ndbc.noaa.gov), which we can use to quickly load some data to play with."
      ]
    },
    {
      "cell_type": "code",
      "metadata": {
        "id": "U5xiYqAyPMka",
        "colab": {
          "base_uri": "https://localhost:8080/"
        },
        "outputId": "3e221938-5391-4c9d-a84c-c7d3ebd8e623"
      },
      "source": [
        "import xarray as xr\n",
        "!pip install netcdf4"
      ],
      "execution_count": 48,
      "outputs": [
        {
          "output_type": "stream",
          "name": "stdout",
          "text": [
            "Requirement already satisfied: netcdf4 in /usr/local/lib/python3.7/dist-packages (1.5.7)\n",
            "Requirement already satisfied: numpy>=1.9 in /usr/local/lib/python3.7/dist-packages (from netcdf4) (1.19.5)\n",
            "Requirement already satisfied: cftime in /usr/local/lib/python3.7/dist-packages (from netcdf4) (1.5.0)\n"
          ]
        }
      ]
    },
    {
      "cell_type": "code",
      "metadata": {
        "id": "MN7o_buKPO7E"
      },
      "source": [
        "data = xr.open_dataset('https://dods.ndbc.noaa.gov/thredds/dodsC/data/stdmet/44025/44025.ncml')"
      ],
      "execution_count": 49,
      "outputs": []
    },
    {
      "cell_type": "code",
      "metadata": {
        "id": "WFKcrSUNPSNS",
        "colab": {
          "base_uri": "https://localhost:8080/",
          "height": 158
        },
        "outputId": "38bff510-006f-457d-e4be-aae89d1674a4"
      },
      "source": [
        "# The Dataset\n",
        "data"
      ],
      "execution_count": 50,
      "outputs": [
        {
          "output_type": "execute_result",
          "data": {
            "text/html": [
              "<div><svg style=\"position: absolute; width: 0; height: 0; overflow: hidden\">\n",
              "<defs>\n",
              "<symbol id=\"icon-database\" viewBox=\"0 0 32 32\">\n",
              "<path d=\"M16 0c-8.837 0-16 2.239-16 5v4c0 2.761 7.163 5 16 5s16-2.239 16-5v-4c0-2.761-7.163-5-16-5z\"></path>\n",
              "<path d=\"M16 17c-8.837 0-16-2.239-16-5v6c0 2.761 7.163 5 16 5s16-2.239 16-5v-6c0 2.761-7.163 5-16 5z\"></path>\n",
              "<path d=\"M16 26c-8.837 0-16-2.239-16-5v6c0 2.761 7.163 5 16 5s16-2.239 16-5v-6c0 2.761-7.163 5-16 5z\"></path>\n",
              "</symbol>\n",
              "<symbol id=\"icon-file-text2\" viewBox=\"0 0 32 32\">\n",
              "<path d=\"M28.681 7.159c-0.694-0.947-1.662-2.053-2.724-3.116s-2.169-2.030-3.116-2.724c-1.612-1.182-2.393-1.319-2.841-1.319h-15.5c-1.378 0-2.5 1.121-2.5 2.5v27c0 1.378 1.122 2.5 2.5 2.5h23c1.378 0 2.5-1.122 2.5-2.5v-19.5c0-0.448-0.137-1.23-1.319-2.841zM24.543 5.457c0.959 0.959 1.712 1.825 2.268 2.543h-4.811v-4.811c0.718 0.556 1.584 1.309 2.543 2.268zM28 29.5c0 0.271-0.229 0.5-0.5 0.5h-23c-0.271 0-0.5-0.229-0.5-0.5v-27c0-0.271 0.229-0.5 0.5-0.5 0 0 15.499-0 15.5 0v7c0 0.552 0.448 1 1 1h7v19.5z\"></path>\n",
              "<path d=\"M23 26h-14c-0.552 0-1-0.448-1-1s0.448-1 1-1h14c0.552 0 1 0.448 1 1s-0.448 1-1 1z\"></path>\n",
              "<path d=\"M23 22h-14c-0.552 0-1-0.448-1-1s0.448-1 1-1h14c0.552 0 1 0.448 1 1s-0.448 1-1 1z\"></path>\n",
              "<path d=\"M23 18h-14c-0.552 0-1-0.448-1-1s0.448-1 1-1h14c0.552 0 1 0.448 1 1s-0.448 1-1 1z\"></path>\n",
              "</symbol>\n",
              "</defs>\n",
              "</svg>\n",
              "<style>/* CSS stylesheet for displaying xarray objects in jupyterlab.\n",
              " *\n",
              " */\n",
              "\n",
              ":root {\n",
              "  --xr-font-color0: var(--jp-content-font-color0, rgba(0, 0, 0, 1));\n",
              "  --xr-font-color2: var(--jp-content-font-color2, rgba(0, 0, 0, 0.54));\n",
              "  --xr-font-color3: var(--jp-content-font-color3, rgba(0, 0, 0, 0.38));\n",
              "  --xr-border-color: var(--jp-border-color2, #e0e0e0);\n",
              "  --xr-disabled-color: var(--jp-layout-color3, #bdbdbd);\n",
              "  --xr-background-color: var(--jp-layout-color0, white);\n",
              "  --xr-background-color-row-even: var(--jp-layout-color1, white);\n",
              "  --xr-background-color-row-odd: var(--jp-layout-color2, #eeeeee);\n",
              "}\n",
              "\n",
              "html[theme=dark],\n",
              "body.vscode-dark {\n",
              "  --xr-font-color0: rgba(255, 255, 255, 1);\n",
              "  --xr-font-color2: rgba(255, 255, 255, 0.54);\n",
              "  --xr-font-color3: rgba(255, 255, 255, 0.38);\n",
              "  --xr-border-color: #1F1F1F;\n",
              "  --xr-disabled-color: #515151;\n",
              "  --xr-background-color: #111111;\n",
              "  --xr-background-color-row-even: #111111;\n",
              "  --xr-background-color-row-odd: #313131;\n",
              "}\n",
              "\n",
              ".xr-wrap {\n",
              "  display: block;\n",
              "  min-width: 300px;\n",
              "  max-width: 700px;\n",
              "}\n",
              "\n",
              ".xr-text-repr-fallback {\n",
              "  /* fallback to plain text repr when CSS is not injected (untrusted notebook) */\n",
              "  display: none;\n",
              "}\n",
              "\n",
              ".xr-header {\n",
              "  padding-top: 6px;\n",
              "  padding-bottom: 6px;\n",
              "  margin-bottom: 4px;\n",
              "  border-bottom: solid 1px var(--xr-border-color);\n",
              "}\n",
              "\n",
              ".xr-header > div,\n",
              ".xr-header > ul {\n",
              "  display: inline;\n",
              "  margin-top: 0;\n",
              "  margin-bottom: 0;\n",
              "}\n",
              "\n",
              ".xr-obj-type,\n",
              ".xr-array-name {\n",
              "  margin-left: 2px;\n",
              "  margin-right: 10px;\n",
              "}\n",
              "\n",
              ".xr-obj-type {\n",
              "  color: var(--xr-font-color2);\n",
              "}\n",
              "\n",
              ".xr-sections {\n",
              "  padding-left: 0 !important;\n",
              "  display: grid;\n",
              "  grid-template-columns: 150px auto auto 1fr 20px 20px;\n",
              "}\n",
              "\n",
              ".xr-section-item {\n",
              "  display: contents;\n",
              "}\n",
              "\n",
              ".xr-section-item input {\n",
              "  display: none;\n",
              "}\n",
              "\n",
              ".xr-section-item input + label {\n",
              "  color: var(--xr-disabled-color);\n",
              "}\n",
              "\n",
              ".xr-section-item input:enabled + label {\n",
              "  cursor: pointer;\n",
              "  color: var(--xr-font-color2);\n",
              "}\n",
              "\n",
              ".xr-section-item input:enabled + label:hover {\n",
              "  color: var(--xr-font-color0);\n",
              "}\n",
              "\n",
              ".xr-section-summary {\n",
              "  grid-column: 1;\n",
              "  color: var(--xr-font-color2);\n",
              "  font-weight: 500;\n",
              "}\n",
              "\n",
              ".xr-section-summary > span {\n",
              "  display: inline-block;\n",
              "  padding-left: 0.5em;\n",
              "}\n",
              "\n",
              ".xr-section-summary-in:disabled + label {\n",
              "  color: var(--xr-font-color2);\n",
              "}\n",
              "\n",
              ".xr-section-summary-in + label:before {\n",
              "  display: inline-block;\n",
              "  content: '►';\n",
              "  font-size: 11px;\n",
              "  width: 15px;\n",
              "  text-align: center;\n",
              "}\n",
              "\n",
              ".xr-section-summary-in:disabled + label:before {\n",
              "  color: var(--xr-disabled-color);\n",
              "}\n",
              "\n",
              ".xr-section-summary-in:checked + label:before {\n",
              "  content: '▼';\n",
              "}\n",
              "\n",
              ".xr-section-summary-in:checked + label > span {\n",
              "  display: none;\n",
              "}\n",
              "\n",
              ".xr-section-summary,\n",
              ".xr-section-inline-details {\n",
              "  padding-top: 4px;\n",
              "  padding-bottom: 4px;\n",
              "}\n",
              "\n",
              ".xr-section-inline-details {\n",
              "  grid-column: 2 / -1;\n",
              "}\n",
              "\n",
              ".xr-section-details {\n",
              "  display: none;\n",
              "  grid-column: 1 / -1;\n",
              "  margin-bottom: 5px;\n",
              "}\n",
              "\n",
              ".xr-section-summary-in:checked ~ .xr-section-details {\n",
              "  display: contents;\n",
              "}\n",
              "\n",
              ".xr-array-wrap {\n",
              "  grid-column: 1 / -1;\n",
              "  display: grid;\n",
              "  grid-template-columns: 20px auto;\n",
              "}\n",
              "\n",
              ".xr-array-wrap > label {\n",
              "  grid-column: 1;\n",
              "  vertical-align: top;\n",
              "}\n",
              "\n",
              ".xr-preview {\n",
              "  color: var(--xr-font-color3);\n",
              "}\n",
              "\n",
              ".xr-array-preview,\n",
              ".xr-array-data {\n",
              "  padding: 0 5px !important;\n",
              "  grid-column: 2;\n",
              "}\n",
              "\n",
              ".xr-array-data,\n",
              ".xr-array-in:checked ~ .xr-array-preview {\n",
              "  display: none;\n",
              "}\n",
              "\n",
              ".xr-array-in:checked ~ .xr-array-data,\n",
              ".xr-array-preview {\n",
              "  display: inline-block;\n",
              "}\n",
              "\n",
              ".xr-dim-list {\n",
              "  display: inline-block !important;\n",
              "  list-style: none;\n",
              "  padding: 0 !important;\n",
              "  margin: 0;\n",
              "}\n",
              "\n",
              ".xr-dim-list li {\n",
              "  display: inline-block;\n",
              "  padding: 0;\n",
              "  margin: 0;\n",
              "}\n",
              "\n",
              ".xr-dim-list:before {\n",
              "  content: '(';\n",
              "}\n",
              "\n",
              ".xr-dim-list:after {\n",
              "  content: ')';\n",
              "}\n",
              "\n",
              ".xr-dim-list li:not(:last-child):after {\n",
              "  content: ',';\n",
              "  padding-right: 5px;\n",
              "}\n",
              "\n",
              ".xr-has-index {\n",
              "  font-weight: bold;\n",
              "}\n",
              "\n",
              ".xr-var-list,\n",
              ".xr-var-item {\n",
              "  display: contents;\n",
              "}\n",
              "\n",
              ".xr-var-item > div,\n",
              ".xr-var-item label,\n",
              ".xr-var-item > .xr-var-name span {\n",
              "  background-color: var(--xr-background-color-row-even);\n",
              "  margin-bottom: 0;\n",
              "}\n",
              "\n",
              ".xr-var-item > .xr-var-name:hover span {\n",
              "  padding-right: 5px;\n",
              "}\n",
              "\n",
              ".xr-var-list > li:nth-child(odd) > div,\n",
              ".xr-var-list > li:nth-child(odd) > label,\n",
              ".xr-var-list > li:nth-child(odd) > .xr-var-name span {\n",
              "  background-color: var(--xr-background-color-row-odd);\n",
              "}\n",
              "\n",
              ".xr-var-name {\n",
              "  grid-column: 1;\n",
              "}\n",
              "\n",
              ".xr-var-dims {\n",
              "  grid-column: 2;\n",
              "}\n",
              "\n",
              ".xr-var-dtype {\n",
              "  grid-column: 3;\n",
              "  text-align: right;\n",
              "  color: var(--xr-font-color2);\n",
              "}\n",
              "\n",
              ".xr-var-preview {\n",
              "  grid-column: 4;\n",
              "}\n",
              "\n",
              ".xr-var-name,\n",
              ".xr-var-dims,\n",
              ".xr-var-dtype,\n",
              ".xr-preview,\n",
              ".xr-attrs dt {\n",
              "  white-space: nowrap;\n",
              "  overflow: hidden;\n",
              "  text-overflow: ellipsis;\n",
              "  padding-right: 10px;\n",
              "}\n",
              "\n",
              ".xr-var-name:hover,\n",
              ".xr-var-dims:hover,\n",
              ".xr-var-dtype:hover,\n",
              ".xr-attrs dt:hover {\n",
              "  overflow: visible;\n",
              "  width: auto;\n",
              "  z-index: 1;\n",
              "}\n",
              "\n",
              ".xr-var-attrs,\n",
              ".xr-var-data {\n",
              "  display: none;\n",
              "  background-color: var(--xr-background-color) !important;\n",
              "  padding-bottom: 5px !important;\n",
              "}\n",
              "\n",
              ".xr-var-attrs-in:checked ~ .xr-var-attrs,\n",
              ".xr-var-data-in:checked ~ .xr-var-data {\n",
              "  display: block;\n",
              "}\n",
              "\n",
              ".xr-var-data > table {\n",
              "  float: right;\n",
              "}\n",
              "\n",
              ".xr-var-name span,\n",
              ".xr-var-data,\n",
              ".xr-attrs {\n",
              "  padding-left: 25px !important;\n",
              "}\n",
              "\n",
              ".xr-attrs,\n",
              ".xr-var-attrs,\n",
              ".xr-var-data {\n",
              "  grid-column: 1 / -1;\n",
              "}\n",
              "\n",
              "dl.xr-attrs {\n",
              "  padding: 0;\n",
              "  margin: 0;\n",
              "  display: grid;\n",
              "  grid-template-columns: 125px auto;\n",
              "}\n",
              "\n",
              ".xr-attrs dt,\n",
              ".xr-attrs dd {\n",
              "  padding: 0;\n",
              "  margin: 0;\n",
              "  float: left;\n",
              "  padding-right: 10px;\n",
              "  width: auto;\n",
              "}\n",
              "\n",
              ".xr-attrs dt {\n",
              "  font-weight: normal;\n",
              "  grid-column: 1;\n",
              "}\n",
              "\n",
              ".xr-attrs dt:hover span {\n",
              "  display: inline-block;\n",
              "  background: var(--xr-background-color);\n",
              "  padding-right: 10px;\n",
              "}\n",
              "\n",
              ".xr-attrs dd {\n",
              "  grid-column: 2;\n",
              "  white-space: pre-wrap;\n",
              "  word-break: break-all;\n",
              "}\n",
              "\n",
              ".xr-icon-database,\n",
              ".xr-icon-file-text2 {\n",
              "  display: inline-block;\n",
              "  vertical-align: middle;\n",
              "  width: 1em;\n",
              "  height: 1.5em !important;\n",
              "  stroke-width: 0;\n",
              "  stroke: currentColor;\n",
              "  fill: currentColor;\n",
              "}\n",
              "</style><pre class='xr-text-repr-fallback'>&lt;xarray.Dataset&gt;\n",
              "Dimensions:                  (latitude: 1, longitude: 1, time: 283817)\n",
              "Coordinates:\n",
              "  * latitude                 (latitude) float32 40.25\n",
              "  * longitude                (longitude) float32 -73.16\n",
              "  * time                     (time) datetime64[ns] 1975-10-24T12:00:00 ... 20...\n",
              "Data variables: (12/13)\n",
              "    wind_dir                 (time, latitude, longitude) float64 ...\n",
              "    wind_spd                 (time, latitude, longitude) float32 ...\n",
              "    gust                     (time, latitude, longitude) float32 ...\n",
              "    wave_height              (time, latitude, longitude) float32 ...\n",
              "    dominant_wpd             (time, latitude, longitude) timedelta64[ns] ...\n",
              "    average_wpd              (time, latitude, longitude) timedelta64[ns] ...\n",
              "    ...                       ...\n",
              "    air_pressure             (time, latitude, longitude) float32 ...\n",
              "    air_temperature          (time, latitude, longitude) float32 ...\n",
              "    sea_surface_temperature  (time, latitude, longitude) float32 ...\n",
              "    dewpt_temperature        (time, latitude, longitude) float32 ...\n",
              "    visibility               (time, latitude, longitude) float32 ...\n",
              "    water_level              (time, latitude, longitude) float32 ...\n",
              "Attributes:\n",
              "    institution:  NOAA National Data Buoy Center and Participators in Data As...\n",
              "    url:          http://dods.ndbc.noaa.gov\n",
              "    quality:      Automated QC checks with manual editing and comprehensive m...\n",
              "    conventions:  COARDS\n",
              "    station:      44025\n",
              "    comment:      LONG ISLAND - 30 NM South of Islip, NY\n",
              "    location:     40.251 N 73.164 W </pre><div class='xr-wrap' hidden><div class='xr-header'><div class='xr-obj-type'>xarray.Dataset</div></div><ul class='xr-sections'><li class='xr-section-item'><input id='section-5df829dc-fa3f-4f1c-b78d-f70b078b349a' class='xr-section-summary-in' type='checkbox' disabled ><label for='section-5df829dc-fa3f-4f1c-b78d-f70b078b349a' class='xr-section-summary'  title='Expand/collapse section'>Dimensions:</label><div class='xr-section-inline-details'><ul class='xr-dim-list'><li><span class='xr-has-index'>latitude</span>: 1</li><li><span class='xr-has-index'>longitude</span>: 1</li><li><span class='xr-has-index'>time</span>: 283817</li></ul></div><div class='xr-section-details'></div></li><li class='xr-section-item'><input id='section-62e9bca7-64bb-4523-818c-b5499dff3563' class='xr-section-summary-in' type='checkbox'  checked><label for='section-62e9bca7-64bb-4523-818c-b5499dff3563' class='xr-section-summary' >Coordinates: <span>(3)</span></label><div class='xr-section-inline-details'></div><div class='xr-section-details'><ul class='xr-var-list'><li class='xr-var-item'><div class='xr-var-name'><span class='xr-has-index'>latitude</span></div><div class='xr-var-dims'>(latitude)</div><div class='xr-var-dtype'>float32</div><div class='xr-var-preview xr-preview'>40.25</div><input id='attrs-d4d17079-5f14-421a-8ca2-61929bcee42b' class='xr-var-attrs-in' type='checkbox' ><label for='attrs-d4d17079-5f14-421a-8ca2-61929bcee42b' title='Show/Hide attributes'><svg class='icon xr-icon-file-text2'><use xlink:href='#icon-file-text2'></use></svg></label><input id='data-0a4a26fa-47aa-407e-954c-bb534d384e80' class='xr-var-data-in' type='checkbox'><label for='data-0a4a26fa-47aa-407e-954c-bb534d384e80' title='Show/Hide data repr'><svg class='icon xr-icon-database'><use xlink:href='#icon-database'></use></svg></label><div class='xr-var-attrs'><dl class='xr-attrs'><dt><span>long_name :</span></dt><dd>Latitude</dd><dt><span>short_name :</span></dt><dd>latitude</dd><dt><span>standard_name :</span></dt><dd>latitude</dd><dt><span>units :</span></dt><dd>degrees_north</dd></dl></div><div class='xr-var-data'><pre>array([40.251], dtype=float32)</pre></div></li><li class='xr-var-item'><div class='xr-var-name'><span class='xr-has-index'>longitude</span></div><div class='xr-var-dims'>(longitude)</div><div class='xr-var-dtype'>float32</div><div class='xr-var-preview xr-preview'>-73.16</div><input id='attrs-0d47daef-598e-442e-8b61-4f961cf3e352' class='xr-var-attrs-in' type='checkbox' ><label for='attrs-0d47daef-598e-442e-8b61-4f961cf3e352' title='Show/Hide attributes'><svg class='icon xr-icon-file-text2'><use xlink:href='#icon-file-text2'></use></svg></label><input id='data-a2ef1994-0161-4584-bcb5-267eaf7f2ea9' class='xr-var-data-in' type='checkbox'><label for='data-a2ef1994-0161-4584-bcb5-267eaf7f2ea9' title='Show/Hide data repr'><svg class='icon xr-icon-database'><use xlink:href='#icon-database'></use></svg></label><div class='xr-var-attrs'><dl class='xr-attrs'><dt><span>long_name :</span></dt><dd>Longitude</dd><dt><span>short_name :</span></dt><dd>longitude</dd><dt><span>standard_name :</span></dt><dd>longitude</dd><dt><span>units :</span></dt><dd>degrees_east</dd></dl></div><div class='xr-var-data'><pre>array([-73.164], dtype=float32)</pre></div></li><li class='xr-var-item'><div class='xr-var-name'><span class='xr-has-index'>time</span></div><div class='xr-var-dims'>(time)</div><div class='xr-var-dtype'>datetime64[ns]</div><div class='xr-var-preview xr-preview'>1975-10-24T12:00:00 ... 2021-01-...</div><input id='attrs-586a7ae6-e123-45f8-92f6-4f18de1a2946' class='xr-var-attrs-in' type='checkbox' ><label for='attrs-586a7ae6-e123-45f8-92f6-4f18de1a2946' title='Show/Hide attributes'><svg class='icon xr-icon-file-text2'><use xlink:href='#icon-file-text2'></use></svg></label><input id='data-4fc82a07-6d8d-46aa-8a89-495b02147884' class='xr-var-data-in' type='checkbox'><label for='data-4fc82a07-6d8d-46aa-8a89-495b02147884' title='Show/Hide data repr'><svg class='icon xr-icon-database'><use xlink:href='#icon-database'></use></svg></label><div class='xr-var-attrs'><dl class='xr-attrs'><dt><span>long_name :</span></dt><dd>Epoch Time</dd><dt><span>short_name :</span></dt><dd>time</dd><dt><span>standard_name :</span></dt><dd>time</dd></dl></div><div class='xr-var-data'><pre>array([&#x27;1975-10-24T12:00:00.000000000&#x27;, &#x27;1975-10-24T13:00:00.000000000&#x27;,\n",
              "       &#x27;1975-10-24T14:00:00.000000000&#x27;, ..., &#x27;2021-01-31T23:30:00.000000000&#x27;,\n",
              "       &#x27;2021-01-31T23:40:00.000000000&#x27;, &#x27;2021-01-31T23:50:00.000000000&#x27;],\n",
              "      dtype=&#x27;datetime64[ns]&#x27;)</pre></div></li></ul></div></li><li class='xr-section-item'><input id='section-2ac2a7cb-1402-4485-8f55-b2b74eeb6d00' class='xr-section-summary-in' type='checkbox'  checked><label for='section-2ac2a7cb-1402-4485-8f55-b2b74eeb6d00' class='xr-section-summary' >Data variables: <span>(13)</span></label><div class='xr-section-inline-details'></div><div class='xr-section-details'><ul class='xr-var-list'><li class='xr-var-item'><div class='xr-var-name'><span>wind_dir</span></div><div class='xr-var-dims'>(time, latitude, longitude)</div><div class='xr-var-dtype'>float64</div><div class='xr-var-preview xr-preview'>...</div><input id='attrs-fd75ba97-0631-4fb4-bd20-2cc836e03b44' class='xr-var-attrs-in' type='checkbox' ><label for='attrs-fd75ba97-0631-4fb4-bd20-2cc836e03b44' title='Show/Hide attributes'><svg class='icon xr-icon-file-text2'><use xlink:href='#icon-file-text2'></use></svg></label><input id='data-dd507cc3-1ae0-4227-b210-1573f8a60293' class='xr-var-data-in' type='checkbox'><label for='data-dd507cc3-1ae0-4227-b210-1573f8a60293' title='Show/Hide data repr'><svg class='icon xr-icon-database'><use xlink:href='#icon-database'></use></svg></label><div class='xr-var-attrs'><dl class='xr-attrs'><dt><span>long_name :</span></dt><dd>Wind Direction</dd><dt><span>short_name :</span></dt><dd>wdir</dd><dt><span>standard_name :</span></dt><dd>wind_from_direction</dd><dt><span>units :</span></dt><dd>degrees_true</dd></dl></div><div class='xr-var-data'><pre>[283817 values with dtype=float64]</pre></div></li><li class='xr-var-item'><div class='xr-var-name'><span>wind_spd</span></div><div class='xr-var-dims'>(time, latitude, longitude)</div><div class='xr-var-dtype'>float32</div><div class='xr-var-preview xr-preview'>...</div><input id='attrs-639cc81e-4af5-405c-b47f-6ee03bc96707' class='xr-var-attrs-in' type='checkbox' ><label for='attrs-639cc81e-4af5-405c-b47f-6ee03bc96707' title='Show/Hide attributes'><svg class='icon xr-icon-file-text2'><use xlink:href='#icon-file-text2'></use></svg></label><input id='data-c6eee69e-8ca4-4c8b-9577-a5cb24b3a8a0' class='xr-var-data-in' type='checkbox'><label for='data-c6eee69e-8ca4-4c8b-9577-a5cb24b3a8a0' title='Show/Hide data repr'><svg class='icon xr-icon-database'><use xlink:href='#icon-database'></use></svg></label><div class='xr-var-attrs'><dl class='xr-attrs'><dt><span>long_name :</span></dt><dd>Wind Speed</dd><dt><span>short_name :</span></dt><dd>wspd</dd><dt><span>standard_name :</span></dt><dd>wind_speed</dd><dt><span>units :</span></dt><dd>meters/second</dd></dl></div><div class='xr-var-data'><pre>[283817 values with dtype=float32]</pre></div></li><li class='xr-var-item'><div class='xr-var-name'><span>gust</span></div><div class='xr-var-dims'>(time, latitude, longitude)</div><div class='xr-var-dtype'>float32</div><div class='xr-var-preview xr-preview'>...</div><input id='attrs-b2a41646-1ab3-4f0a-8cd8-9b0747735753' class='xr-var-attrs-in' type='checkbox' ><label for='attrs-b2a41646-1ab3-4f0a-8cd8-9b0747735753' title='Show/Hide attributes'><svg class='icon xr-icon-file-text2'><use xlink:href='#icon-file-text2'></use></svg></label><input id='data-adcec42c-7fa4-4705-89df-e124794847db' class='xr-var-data-in' type='checkbox'><label for='data-adcec42c-7fa4-4705-89df-e124794847db' title='Show/Hide data repr'><svg class='icon xr-icon-database'><use xlink:href='#icon-database'></use></svg></label><div class='xr-var-attrs'><dl class='xr-attrs'><dt><span>long_name :</span></dt><dd>Wind Gust Speed</dd><dt><span>short_name :</span></dt><dd>gst</dd><dt><span>standard_name :</span></dt><dd>gust</dd><dt><span>units :</span></dt><dd>meters/second</dd></dl></div><div class='xr-var-data'><pre>[283817 values with dtype=float32]</pre></div></li><li class='xr-var-item'><div class='xr-var-name'><span>wave_height</span></div><div class='xr-var-dims'>(time, latitude, longitude)</div><div class='xr-var-dtype'>float32</div><div class='xr-var-preview xr-preview'>...</div><input id='attrs-e239c667-0149-4541-8f46-b103672a6f6a' class='xr-var-attrs-in' type='checkbox' ><label for='attrs-e239c667-0149-4541-8f46-b103672a6f6a' title='Show/Hide attributes'><svg class='icon xr-icon-file-text2'><use xlink:href='#icon-file-text2'></use></svg></label><input id='data-f41b1fe6-84ff-46b1-9fe5-68d204a17b57' class='xr-var-data-in' type='checkbox'><label for='data-f41b1fe6-84ff-46b1-9fe5-68d204a17b57' title='Show/Hide data repr'><svg class='icon xr-icon-database'><use xlink:href='#icon-database'></use></svg></label><div class='xr-var-attrs'><dl class='xr-attrs'><dt><span>long_name :</span></dt><dd>Significant Wave Height</dd><dt><span>short_name :</span></dt><dd>wvht</dd><dt><span>standard_name :</span></dt><dd>significant_height_of_wave</dd><dt><span>units :</span></dt><dd>meters</dd></dl></div><div class='xr-var-data'><pre>[283817 values with dtype=float32]</pre></div></li><li class='xr-var-item'><div class='xr-var-name'><span>dominant_wpd</span></div><div class='xr-var-dims'>(time, latitude, longitude)</div><div class='xr-var-dtype'>timedelta64[ns]</div><div class='xr-var-preview xr-preview'>...</div><input id='attrs-67b6603d-9ce4-459c-97b6-ab7ca158b250' class='xr-var-attrs-in' type='checkbox' ><label for='attrs-67b6603d-9ce4-459c-97b6-ab7ca158b250' title='Show/Hide attributes'><svg class='icon xr-icon-file-text2'><use xlink:href='#icon-file-text2'></use></svg></label><input id='data-d5a87b2b-cbb9-49f6-a5b9-0564ee08858a' class='xr-var-data-in' type='checkbox'><label for='data-d5a87b2b-cbb9-49f6-a5b9-0564ee08858a' title='Show/Hide data repr'><svg class='icon xr-icon-database'><use xlink:href='#icon-database'></use></svg></label><div class='xr-var-attrs'><dl class='xr-attrs'><dt><span>long_name :</span></dt><dd>Dominant Wave Period</dd><dt><span>short_name :</span></dt><dd>dpd</dd><dt><span>standard_name :</span></dt><dd>dominant_wave_period</dd></dl></div><div class='xr-var-data'><pre>[283817 values with dtype=timedelta64[ns]]</pre></div></li><li class='xr-var-item'><div class='xr-var-name'><span>average_wpd</span></div><div class='xr-var-dims'>(time, latitude, longitude)</div><div class='xr-var-dtype'>timedelta64[ns]</div><div class='xr-var-preview xr-preview'>...</div><input id='attrs-1d06b3a8-422a-482a-89e3-55d576fe88f3' class='xr-var-attrs-in' type='checkbox' ><label for='attrs-1d06b3a8-422a-482a-89e3-55d576fe88f3' title='Show/Hide attributes'><svg class='icon xr-icon-file-text2'><use xlink:href='#icon-file-text2'></use></svg></label><input id='data-96ba8a04-a2d6-4950-ad08-765a1f294419' class='xr-var-data-in' type='checkbox'><label for='data-96ba8a04-a2d6-4950-ad08-765a1f294419' title='Show/Hide data repr'><svg class='icon xr-icon-database'><use xlink:href='#icon-database'></use></svg></label><div class='xr-var-attrs'><dl class='xr-attrs'><dt><span>long_name :</span></dt><dd>Average Wave Period</dd><dt><span>short_name :</span></dt><dd>apd</dd><dt><span>standard_name :</span></dt><dd>average_wave_period</dd></dl></div><div class='xr-var-data'><pre>[283817 values with dtype=timedelta64[ns]]</pre></div></li><li class='xr-var-item'><div class='xr-var-name'><span>mean_wave_dir</span></div><div class='xr-var-dims'>(time, latitude, longitude)</div><div class='xr-var-dtype'>float64</div><div class='xr-var-preview xr-preview'>...</div><input id='attrs-26079541-c6dc-47c3-9a49-dd186a01be98' class='xr-var-attrs-in' type='checkbox' ><label for='attrs-26079541-c6dc-47c3-9a49-dd186a01be98' title='Show/Hide attributes'><svg class='icon xr-icon-file-text2'><use xlink:href='#icon-file-text2'></use></svg></label><input id='data-56663ed6-cd89-40ba-8447-7b15c64ae992' class='xr-var-data-in' type='checkbox'><label for='data-56663ed6-cd89-40ba-8447-7b15c64ae992' title='Show/Hide data repr'><svg class='icon xr-icon-database'><use xlink:href='#icon-database'></use></svg></label><div class='xr-var-attrs'><dl class='xr-attrs'><dt><span>long_name :</span></dt><dd>Mean Wave Direction</dd><dt><span>short_name :</span></dt><dd>mwd</dd><dt><span>standard_name :</span></dt><dd>mean_wave_direction</dd><dt><span>units :</span></dt><dd>degrees_true</dd></dl></div><div class='xr-var-data'><pre>[283817 values with dtype=float64]</pre></div></li><li class='xr-var-item'><div class='xr-var-name'><span>air_pressure</span></div><div class='xr-var-dims'>(time, latitude, longitude)</div><div class='xr-var-dtype'>float32</div><div class='xr-var-preview xr-preview'>...</div><input id='attrs-3f32be4e-5fea-4296-8c73-61990e2093ad' class='xr-var-attrs-in' type='checkbox' ><label for='attrs-3f32be4e-5fea-4296-8c73-61990e2093ad' title='Show/Hide attributes'><svg class='icon xr-icon-file-text2'><use xlink:href='#icon-file-text2'></use></svg></label><input id='data-212b9486-5311-4e5d-a65d-ca14bcc8eca1' class='xr-var-data-in' type='checkbox'><label for='data-212b9486-5311-4e5d-a65d-ca14bcc8eca1' title='Show/Hide data repr'><svg class='icon xr-icon-database'><use xlink:href='#icon-database'></use></svg></label><div class='xr-var-attrs'><dl class='xr-attrs'><dt><span>long_name :</span></dt><dd>Sea Level Pressure</dd><dt><span>short_name :</span></dt><dd>pres</dd><dt><span>standard_name :</span></dt><dd>air_pressure_at_sea_level</dd><dt><span>units :</span></dt><dd>hPa</dd></dl></div><div class='xr-var-data'><pre>[283817 values with dtype=float32]</pre></div></li><li class='xr-var-item'><div class='xr-var-name'><span>air_temperature</span></div><div class='xr-var-dims'>(time, latitude, longitude)</div><div class='xr-var-dtype'>float32</div><div class='xr-var-preview xr-preview'>...</div><input id='attrs-d141fefd-e0e9-4b55-9341-8793f3109360' class='xr-var-attrs-in' type='checkbox' ><label for='attrs-d141fefd-e0e9-4b55-9341-8793f3109360' title='Show/Hide attributes'><svg class='icon xr-icon-file-text2'><use xlink:href='#icon-file-text2'></use></svg></label><input id='data-bedfbeb2-df38-4d3e-b248-db8e822c3916' class='xr-var-data-in' type='checkbox'><label for='data-bedfbeb2-df38-4d3e-b248-db8e822c3916' title='Show/Hide data repr'><svg class='icon xr-icon-database'><use xlink:href='#icon-database'></use></svg></label><div class='xr-var-attrs'><dl class='xr-attrs'><dt><span>long_name :</span></dt><dd>Air Temperature</dd><dt><span>short_name :</span></dt><dd>atmp</dd><dt><span>standard_name :</span></dt><dd>air_temperature</dd><dt><span>units :</span></dt><dd>degree_Celsius</dd></dl></div><div class='xr-var-data'><pre>[283817 values with dtype=float32]</pre></div></li><li class='xr-var-item'><div class='xr-var-name'><span>sea_surface_temperature</span></div><div class='xr-var-dims'>(time, latitude, longitude)</div><div class='xr-var-dtype'>float32</div><div class='xr-var-preview xr-preview'>...</div><input id='attrs-0d7de449-5973-4e71-baf4-1edc33d70c6d' class='xr-var-attrs-in' type='checkbox' ><label for='attrs-0d7de449-5973-4e71-baf4-1edc33d70c6d' title='Show/Hide attributes'><svg class='icon xr-icon-file-text2'><use xlink:href='#icon-file-text2'></use></svg></label><input id='data-13af4596-9389-4633-92a2-a3150c4b4668' class='xr-var-data-in' type='checkbox'><label for='data-13af4596-9389-4633-92a2-a3150c4b4668' title='Show/Hide data repr'><svg class='icon xr-icon-database'><use xlink:href='#icon-database'></use></svg></label><div class='xr-var-attrs'><dl class='xr-attrs'><dt><span>long_name :</span></dt><dd>Sea Surface Temperature</dd><dt><span>short_name :</span></dt><dd>wtmp</dd><dt><span>standard_name :</span></dt><dd>sea_surface_temperature</dd><dt><span>units :</span></dt><dd>degree_Celsius</dd></dl></div><div class='xr-var-data'><pre>[283817 values with dtype=float32]</pre></div></li><li class='xr-var-item'><div class='xr-var-name'><span>dewpt_temperature</span></div><div class='xr-var-dims'>(time, latitude, longitude)</div><div class='xr-var-dtype'>float32</div><div class='xr-var-preview xr-preview'>...</div><input id='attrs-c66ea195-5c99-4c41-b2e8-6c0d62c74c57' class='xr-var-attrs-in' type='checkbox' ><label for='attrs-c66ea195-5c99-4c41-b2e8-6c0d62c74c57' title='Show/Hide attributes'><svg class='icon xr-icon-file-text2'><use xlink:href='#icon-file-text2'></use></svg></label><input id='data-9f6144e0-22dd-4ea0-8caf-3a09b93ff4b6' class='xr-var-data-in' type='checkbox'><label for='data-9f6144e0-22dd-4ea0-8caf-3a09b93ff4b6' title='Show/Hide data repr'><svg class='icon xr-icon-database'><use xlink:href='#icon-database'></use></svg></label><div class='xr-var-attrs'><dl class='xr-attrs'><dt><span>long_name :</span></dt><dd>Dew Point Temperature</dd><dt><span>short_name :</span></dt><dd>dewp</dd><dt><span>standard_name :</span></dt><dd>dew_point_temperature</dd><dt><span>units :</span></dt><dd>degree_Celsius</dd></dl></div><div class='xr-var-data'><pre>[283817 values with dtype=float32]</pre></div></li><li class='xr-var-item'><div class='xr-var-name'><span>visibility</span></div><div class='xr-var-dims'>(time, latitude, longitude)</div><div class='xr-var-dtype'>float32</div><div class='xr-var-preview xr-preview'>...</div><input id='attrs-1bb922b4-905e-4ee5-b7ec-9038e4137716' class='xr-var-attrs-in' type='checkbox' ><label for='attrs-1bb922b4-905e-4ee5-b7ec-9038e4137716' title='Show/Hide attributes'><svg class='icon xr-icon-file-text2'><use xlink:href='#icon-file-text2'></use></svg></label><input id='data-49c3a372-cc0a-4758-994c-4e70ef4cbf62' class='xr-var-data-in' type='checkbox'><label for='data-49c3a372-cc0a-4758-994c-4e70ef4cbf62' title='Show/Hide data repr'><svg class='icon xr-icon-database'><use xlink:href='#icon-database'></use></svg></label><div class='xr-var-attrs'><dl class='xr-attrs'><dt><span>long_name :</span></dt><dd>Visibility</dd><dt><span>short_name :</span></dt><dd>vis</dd><dt><span>standard_name :</span></dt><dd>visibility_in_air</dd><dt><span>units :</span></dt><dd>US_statute_miles</dd></dl></div><div class='xr-var-data'><pre>[283817 values with dtype=float32]</pre></div></li><li class='xr-var-item'><div class='xr-var-name'><span>water_level</span></div><div class='xr-var-dims'>(time, latitude, longitude)</div><div class='xr-var-dtype'>float32</div><div class='xr-var-preview xr-preview'>...</div><input id='attrs-7400dd3b-f601-4c6b-856f-b508ab6f5750' class='xr-var-attrs-in' type='checkbox' ><label for='attrs-7400dd3b-f601-4c6b-856f-b508ab6f5750' title='Show/Hide attributes'><svg class='icon xr-icon-file-text2'><use xlink:href='#icon-file-text2'></use></svg></label><input id='data-ea1508e8-426f-4f90-8e5a-b4e1b65255af' class='xr-var-data-in' type='checkbox'><label for='data-ea1508e8-426f-4f90-8e5a-b4e1b65255af' title='Show/Hide data repr'><svg class='icon xr-icon-database'><use xlink:href='#icon-database'></use></svg></label><div class='xr-var-attrs'><dl class='xr-attrs'><dt><span>long_name :</span></dt><dd>Tide Water Level</dd><dt><span>short_name :</span></dt><dd>tide</dd><dt><span>standard_name :</span></dt><dd>water_level</dd><dt><span>units :</span></dt><dd>feet</dd></dl></div><div class='xr-var-data'><pre>[283817 values with dtype=float32]</pre></div></li></ul></div></li><li class='xr-section-item'><input id='section-da1b7756-ba01-4495-88d4-48891baaaed6' class='xr-section-summary-in' type='checkbox'  checked><label for='section-da1b7756-ba01-4495-88d4-48891baaaed6' class='xr-section-summary' >Attributes: <span>(7)</span></label><div class='xr-section-inline-details'></div><div class='xr-section-details'><dl class='xr-attrs'><dt><span>institution :</span></dt><dd>NOAA National Data Buoy Center and Participators in Data Assembly Center</dd><dt><span>url :</span></dt><dd>http://dods.ndbc.noaa.gov</dd><dt><span>quality :</span></dt><dd>Automated QC checks with manual editing and comprehensive monthly QC</dd><dt><span>conventions :</span></dt><dd>COARDS</dd><dt><span>station :</span></dt><dd>44025</dd><dt><span>comment :</span></dt><dd>LONG ISLAND - 30 NM South of Islip, NY</dd><dt><span>location :</span></dt><dd>40.251 N 73.164 W </dd></dl></div></li></ul></div></div>"
            ],
            "text/plain": [
              "<xarray.Dataset>\n",
              "Dimensions:                  (latitude: 1, longitude: 1, time: 283817)\n",
              "Coordinates:\n",
              "  * latitude                 (latitude) float32 40.25\n",
              "  * longitude                (longitude) float32 -73.16\n",
              "  * time                     (time) datetime64[ns] 1975-10-24T12:00:00 ... 20...\n",
              "Data variables: (12/13)\n",
              "    wind_dir                 (time, latitude, longitude) float64 ...\n",
              "    wind_spd                 (time, latitude, longitude) float32 ...\n",
              "    gust                     (time, latitude, longitude) float32 ...\n",
              "    wave_height              (time, latitude, longitude) float32 ...\n",
              "    dominant_wpd             (time, latitude, longitude) timedelta64[ns] ...\n",
              "    average_wpd              (time, latitude, longitude) timedelta64[ns] ...\n",
              "    ...                       ...\n",
              "    air_pressure             (time, latitude, longitude) float32 ...\n",
              "    air_temperature          (time, latitude, longitude) float32 ...\n",
              "    sea_surface_temperature  (time, latitude, longitude) float32 ...\n",
              "    dewpt_temperature        (time, latitude, longitude) float32 ...\n",
              "    visibility               (time, latitude, longitude) float32 ...\n",
              "    water_level              (time, latitude, longitude) float32 ...\n",
              "Attributes:\n",
              "    institution:  NOAA National Data Buoy Center and Participators in Data As...\n",
              "    url:          http://dods.ndbc.noaa.gov\n",
              "    quality:      Automated QC checks with manual editing and comprehensive m...\n",
              "    conventions:  COARDS\n",
              "    station:      44025\n",
              "    comment:      LONG ISLAND - 30 NM South of Islip, NY\n",
              "    location:     40.251 N 73.164 W "
            ]
          },
          "metadata": {},
          "execution_count": 50
        }
      ]
    },
    {
      "cell_type": "code",
      "metadata": {
        "id": "YIgYXHz6an6A",
        "colab": {
          "base_uri": "https://localhost:8080/",
          "height": 332
        },
        "outputId": "8d29b0fe-efdc-4bce-b58a-f4f610d38854"
      },
      "source": [
        "# Let's look at one variable\n",
        "data.air_temperature"
      ],
      "execution_count": 51,
      "outputs": [
        {
          "output_type": "execute_result",
          "data": {
            "text/html": [
              "<div><svg style=\"position: absolute; width: 0; height: 0; overflow: hidden\">\n",
              "<defs>\n",
              "<symbol id=\"icon-database\" viewBox=\"0 0 32 32\">\n",
              "<path d=\"M16 0c-8.837 0-16 2.239-16 5v4c0 2.761 7.163 5 16 5s16-2.239 16-5v-4c0-2.761-7.163-5-16-5z\"></path>\n",
              "<path d=\"M16 17c-8.837 0-16-2.239-16-5v6c0 2.761 7.163 5 16 5s16-2.239 16-5v-6c0 2.761-7.163 5-16 5z\"></path>\n",
              "<path d=\"M16 26c-8.837 0-16-2.239-16-5v6c0 2.761 7.163 5 16 5s16-2.239 16-5v-6c0 2.761-7.163 5-16 5z\"></path>\n",
              "</symbol>\n",
              "<symbol id=\"icon-file-text2\" viewBox=\"0 0 32 32\">\n",
              "<path d=\"M28.681 7.159c-0.694-0.947-1.662-2.053-2.724-3.116s-2.169-2.030-3.116-2.724c-1.612-1.182-2.393-1.319-2.841-1.319h-15.5c-1.378 0-2.5 1.121-2.5 2.5v27c0 1.378 1.122 2.5 2.5 2.5h23c1.378 0 2.5-1.122 2.5-2.5v-19.5c0-0.448-0.137-1.23-1.319-2.841zM24.543 5.457c0.959 0.959 1.712 1.825 2.268 2.543h-4.811v-4.811c0.718 0.556 1.584 1.309 2.543 2.268zM28 29.5c0 0.271-0.229 0.5-0.5 0.5h-23c-0.271 0-0.5-0.229-0.5-0.5v-27c0-0.271 0.229-0.5 0.5-0.5 0 0 15.499-0 15.5 0v7c0 0.552 0.448 1 1 1h7v19.5z\"></path>\n",
              "<path d=\"M23 26h-14c-0.552 0-1-0.448-1-1s0.448-1 1-1h14c0.552 0 1 0.448 1 1s-0.448 1-1 1z\"></path>\n",
              "<path d=\"M23 22h-14c-0.552 0-1-0.448-1-1s0.448-1 1-1h14c0.552 0 1 0.448 1 1s-0.448 1-1 1z\"></path>\n",
              "<path d=\"M23 18h-14c-0.552 0-1-0.448-1-1s0.448-1 1-1h14c0.552 0 1 0.448 1 1s-0.448 1-1 1z\"></path>\n",
              "</symbol>\n",
              "</defs>\n",
              "</svg>\n",
              "<style>/* CSS stylesheet for displaying xarray objects in jupyterlab.\n",
              " *\n",
              " */\n",
              "\n",
              ":root {\n",
              "  --xr-font-color0: var(--jp-content-font-color0, rgba(0, 0, 0, 1));\n",
              "  --xr-font-color2: var(--jp-content-font-color2, rgba(0, 0, 0, 0.54));\n",
              "  --xr-font-color3: var(--jp-content-font-color3, rgba(0, 0, 0, 0.38));\n",
              "  --xr-border-color: var(--jp-border-color2, #e0e0e0);\n",
              "  --xr-disabled-color: var(--jp-layout-color3, #bdbdbd);\n",
              "  --xr-background-color: var(--jp-layout-color0, white);\n",
              "  --xr-background-color-row-even: var(--jp-layout-color1, white);\n",
              "  --xr-background-color-row-odd: var(--jp-layout-color2, #eeeeee);\n",
              "}\n",
              "\n",
              "html[theme=dark],\n",
              "body.vscode-dark {\n",
              "  --xr-font-color0: rgba(255, 255, 255, 1);\n",
              "  --xr-font-color2: rgba(255, 255, 255, 0.54);\n",
              "  --xr-font-color3: rgba(255, 255, 255, 0.38);\n",
              "  --xr-border-color: #1F1F1F;\n",
              "  --xr-disabled-color: #515151;\n",
              "  --xr-background-color: #111111;\n",
              "  --xr-background-color-row-even: #111111;\n",
              "  --xr-background-color-row-odd: #313131;\n",
              "}\n",
              "\n",
              ".xr-wrap {\n",
              "  display: block;\n",
              "  min-width: 300px;\n",
              "  max-width: 700px;\n",
              "}\n",
              "\n",
              ".xr-text-repr-fallback {\n",
              "  /* fallback to plain text repr when CSS is not injected (untrusted notebook) */\n",
              "  display: none;\n",
              "}\n",
              "\n",
              ".xr-header {\n",
              "  padding-top: 6px;\n",
              "  padding-bottom: 6px;\n",
              "  margin-bottom: 4px;\n",
              "  border-bottom: solid 1px var(--xr-border-color);\n",
              "}\n",
              "\n",
              ".xr-header > div,\n",
              ".xr-header > ul {\n",
              "  display: inline;\n",
              "  margin-top: 0;\n",
              "  margin-bottom: 0;\n",
              "}\n",
              "\n",
              ".xr-obj-type,\n",
              ".xr-array-name {\n",
              "  margin-left: 2px;\n",
              "  margin-right: 10px;\n",
              "}\n",
              "\n",
              ".xr-obj-type {\n",
              "  color: var(--xr-font-color2);\n",
              "}\n",
              "\n",
              ".xr-sections {\n",
              "  padding-left: 0 !important;\n",
              "  display: grid;\n",
              "  grid-template-columns: 150px auto auto 1fr 20px 20px;\n",
              "}\n",
              "\n",
              ".xr-section-item {\n",
              "  display: contents;\n",
              "}\n",
              "\n",
              ".xr-section-item input {\n",
              "  display: none;\n",
              "}\n",
              "\n",
              ".xr-section-item input + label {\n",
              "  color: var(--xr-disabled-color);\n",
              "}\n",
              "\n",
              ".xr-section-item input:enabled + label {\n",
              "  cursor: pointer;\n",
              "  color: var(--xr-font-color2);\n",
              "}\n",
              "\n",
              ".xr-section-item input:enabled + label:hover {\n",
              "  color: var(--xr-font-color0);\n",
              "}\n",
              "\n",
              ".xr-section-summary {\n",
              "  grid-column: 1;\n",
              "  color: var(--xr-font-color2);\n",
              "  font-weight: 500;\n",
              "}\n",
              "\n",
              ".xr-section-summary > span {\n",
              "  display: inline-block;\n",
              "  padding-left: 0.5em;\n",
              "}\n",
              "\n",
              ".xr-section-summary-in:disabled + label {\n",
              "  color: var(--xr-font-color2);\n",
              "}\n",
              "\n",
              ".xr-section-summary-in + label:before {\n",
              "  display: inline-block;\n",
              "  content: '►';\n",
              "  font-size: 11px;\n",
              "  width: 15px;\n",
              "  text-align: center;\n",
              "}\n",
              "\n",
              ".xr-section-summary-in:disabled + label:before {\n",
              "  color: var(--xr-disabled-color);\n",
              "}\n",
              "\n",
              ".xr-section-summary-in:checked + label:before {\n",
              "  content: '▼';\n",
              "}\n",
              "\n",
              ".xr-section-summary-in:checked + label > span {\n",
              "  display: none;\n",
              "}\n",
              "\n",
              ".xr-section-summary,\n",
              ".xr-section-inline-details {\n",
              "  padding-top: 4px;\n",
              "  padding-bottom: 4px;\n",
              "}\n",
              "\n",
              ".xr-section-inline-details {\n",
              "  grid-column: 2 / -1;\n",
              "}\n",
              "\n",
              ".xr-section-details {\n",
              "  display: none;\n",
              "  grid-column: 1 / -1;\n",
              "  margin-bottom: 5px;\n",
              "}\n",
              "\n",
              ".xr-section-summary-in:checked ~ .xr-section-details {\n",
              "  display: contents;\n",
              "}\n",
              "\n",
              ".xr-array-wrap {\n",
              "  grid-column: 1 / -1;\n",
              "  display: grid;\n",
              "  grid-template-columns: 20px auto;\n",
              "}\n",
              "\n",
              ".xr-array-wrap > label {\n",
              "  grid-column: 1;\n",
              "  vertical-align: top;\n",
              "}\n",
              "\n",
              ".xr-preview {\n",
              "  color: var(--xr-font-color3);\n",
              "}\n",
              "\n",
              ".xr-array-preview,\n",
              ".xr-array-data {\n",
              "  padding: 0 5px !important;\n",
              "  grid-column: 2;\n",
              "}\n",
              "\n",
              ".xr-array-data,\n",
              ".xr-array-in:checked ~ .xr-array-preview {\n",
              "  display: none;\n",
              "}\n",
              "\n",
              ".xr-array-in:checked ~ .xr-array-data,\n",
              ".xr-array-preview {\n",
              "  display: inline-block;\n",
              "}\n",
              "\n",
              ".xr-dim-list {\n",
              "  display: inline-block !important;\n",
              "  list-style: none;\n",
              "  padding: 0 !important;\n",
              "  margin: 0;\n",
              "}\n",
              "\n",
              ".xr-dim-list li {\n",
              "  display: inline-block;\n",
              "  padding: 0;\n",
              "  margin: 0;\n",
              "}\n",
              "\n",
              ".xr-dim-list:before {\n",
              "  content: '(';\n",
              "}\n",
              "\n",
              ".xr-dim-list:after {\n",
              "  content: ')';\n",
              "}\n",
              "\n",
              ".xr-dim-list li:not(:last-child):after {\n",
              "  content: ',';\n",
              "  padding-right: 5px;\n",
              "}\n",
              "\n",
              ".xr-has-index {\n",
              "  font-weight: bold;\n",
              "}\n",
              "\n",
              ".xr-var-list,\n",
              ".xr-var-item {\n",
              "  display: contents;\n",
              "}\n",
              "\n",
              ".xr-var-item > div,\n",
              ".xr-var-item label,\n",
              ".xr-var-item > .xr-var-name span {\n",
              "  background-color: var(--xr-background-color-row-even);\n",
              "  margin-bottom: 0;\n",
              "}\n",
              "\n",
              ".xr-var-item > .xr-var-name:hover span {\n",
              "  padding-right: 5px;\n",
              "}\n",
              "\n",
              ".xr-var-list > li:nth-child(odd) > div,\n",
              ".xr-var-list > li:nth-child(odd) > label,\n",
              ".xr-var-list > li:nth-child(odd) > .xr-var-name span {\n",
              "  background-color: var(--xr-background-color-row-odd);\n",
              "}\n",
              "\n",
              ".xr-var-name {\n",
              "  grid-column: 1;\n",
              "}\n",
              "\n",
              ".xr-var-dims {\n",
              "  grid-column: 2;\n",
              "}\n",
              "\n",
              ".xr-var-dtype {\n",
              "  grid-column: 3;\n",
              "  text-align: right;\n",
              "  color: var(--xr-font-color2);\n",
              "}\n",
              "\n",
              ".xr-var-preview {\n",
              "  grid-column: 4;\n",
              "}\n",
              "\n",
              ".xr-var-name,\n",
              ".xr-var-dims,\n",
              ".xr-var-dtype,\n",
              ".xr-preview,\n",
              ".xr-attrs dt {\n",
              "  white-space: nowrap;\n",
              "  overflow: hidden;\n",
              "  text-overflow: ellipsis;\n",
              "  padding-right: 10px;\n",
              "}\n",
              "\n",
              ".xr-var-name:hover,\n",
              ".xr-var-dims:hover,\n",
              ".xr-var-dtype:hover,\n",
              ".xr-attrs dt:hover {\n",
              "  overflow: visible;\n",
              "  width: auto;\n",
              "  z-index: 1;\n",
              "}\n",
              "\n",
              ".xr-var-attrs,\n",
              ".xr-var-data {\n",
              "  display: none;\n",
              "  background-color: var(--xr-background-color) !important;\n",
              "  padding-bottom: 5px !important;\n",
              "}\n",
              "\n",
              ".xr-var-attrs-in:checked ~ .xr-var-attrs,\n",
              ".xr-var-data-in:checked ~ .xr-var-data {\n",
              "  display: block;\n",
              "}\n",
              "\n",
              ".xr-var-data > table {\n",
              "  float: right;\n",
              "}\n",
              "\n",
              ".xr-var-name span,\n",
              ".xr-var-data,\n",
              ".xr-attrs {\n",
              "  padding-left: 25px !important;\n",
              "}\n",
              "\n",
              ".xr-attrs,\n",
              ".xr-var-attrs,\n",
              ".xr-var-data {\n",
              "  grid-column: 1 / -1;\n",
              "}\n",
              "\n",
              "dl.xr-attrs {\n",
              "  padding: 0;\n",
              "  margin: 0;\n",
              "  display: grid;\n",
              "  grid-template-columns: 125px auto;\n",
              "}\n",
              "\n",
              ".xr-attrs dt,\n",
              ".xr-attrs dd {\n",
              "  padding: 0;\n",
              "  margin: 0;\n",
              "  float: left;\n",
              "  padding-right: 10px;\n",
              "  width: auto;\n",
              "}\n",
              "\n",
              ".xr-attrs dt {\n",
              "  font-weight: normal;\n",
              "  grid-column: 1;\n",
              "}\n",
              "\n",
              ".xr-attrs dt:hover span {\n",
              "  display: inline-block;\n",
              "  background: var(--xr-background-color);\n",
              "  padding-right: 10px;\n",
              "}\n",
              "\n",
              ".xr-attrs dd {\n",
              "  grid-column: 2;\n",
              "  white-space: pre-wrap;\n",
              "  word-break: break-all;\n",
              "}\n",
              "\n",
              ".xr-icon-database,\n",
              ".xr-icon-file-text2 {\n",
              "  display: inline-block;\n",
              "  vertical-align: middle;\n",
              "  width: 1em;\n",
              "  height: 1.5em !important;\n",
              "  stroke-width: 0;\n",
              "  stroke: currentColor;\n",
              "  fill: currentColor;\n",
              "}\n",
              "</style><pre class='xr-text-repr-fallback'>&lt;xarray.DataArray &#x27;air_temperature&#x27; (time: 283817, latitude: 1, longitude: 1)&gt;\n",
              "[283817 values with dtype=float32]\n",
              "Coordinates:\n",
              "  * latitude   (latitude) float32 40.25\n",
              "  * longitude  (longitude) float32 -73.16\n",
              "  * time       (time) datetime64[ns] 1975-10-24T12:00:00 ... 2021-01-31T23:50:00\n",
              "Attributes:\n",
              "    long_name:      Air Temperature\n",
              "    short_name:     atmp\n",
              "    standard_name:  air_temperature\n",
              "    units:          degree_Celsius</pre><div class='xr-wrap' hidden><div class='xr-header'><div class='xr-obj-type'>xarray.DataArray</div><div class='xr-array-name'>'air_temperature'</div><ul class='xr-dim-list'><li><span class='xr-has-index'>time</span>: 283817</li><li><span class='xr-has-index'>latitude</span>: 1</li><li><span class='xr-has-index'>longitude</span>: 1</li></ul></div><ul class='xr-sections'><li class='xr-section-item'><div class='xr-array-wrap'><input id='section-e50e1826-ba4c-4eca-bf4b-0497b254b382' class='xr-array-in' type='checkbox' checked><label for='section-e50e1826-ba4c-4eca-bf4b-0497b254b382' title='Show/hide data repr'><svg class='icon xr-icon-database'><use xlink:href='#icon-database'></use></svg></label><div class='xr-array-preview xr-preview'><span>...</span></div><div class='xr-array-data'><pre>[283817 values with dtype=float32]</pre></div></div></li><li class='xr-section-item'><input id='section-95274aa4-a579-46b8-b3e1-a335e01a0974' class='xr-section-summary-in' type='checkbox'  checked><label for='section-95274aa4-a579-46b8-b3e1-a335e01a0974' class='xr-section-summary' >Coordinates: <span>(3)</span></label><div class='xr-section-inline-details'></div><div class='xr-section-details'><ul class='xr-var-list'><li class='xr-var-item'><div class='xr-var-name'><span class='xr-has-index'>latitude</span></div><div class='xr-var-dims'>(latitude)</div><div class='xr-var-dtype'>float32</div><div class='xr-var-preview xr-preview'>40.25</div><input id='attrs-266bd68c-1e1c-4f04-b2d6-be67a27883c3' class='xr-var-attrs-in' type='checkbox' ><label for='attrs-266bd68c-1e1c-4f04-b2d6-be67a27883c3' title='Show/Hide attributes'><svg class='icon xr-icon-file-text2'><use xlink:href='#icon-file-text2'></use></svg></label><input id='data-a0dad8c4-105b-41f5-83f9-3de97473eb55' class='xr-var-data-in' type='checkbox'><label for='data-a0dad8c4-105b-41f5-83f9-3de97473eb55' title='Show/Hide data repr'><svg class='icon xr-icon-database'><use xlink:href='#icon-database'></use></svg></label><div class='xr-var-attrs'><dl class='xr-attrs'><dt><span>long_name :</span></dt><dd>Latitude</dd><dt><span>short_name :</span></dt><dd>latitude</dd><dt><span>standard_name :</span></dt><dd>latitude</dd><dt><span>units :</span></dt><dd>degrees_north</dd></dl></div><div class='xr-var-data'><pre>array([40.251], dtype=float32)</pre></div></li><li class='xr-var-item'><div class='xr-var-name'><span class='xr-has-index'>longitude</span></div><div class='xr-var-dims'>(longitude)</div><div class='xr-var-dtype'>float32</div><div class='xr-var-preview xr-preview'>-73.16</div><input id='attrs-30bcbd46-2200-433e-95f6-341eed108174' class='xr-var-attrs-in' type='checkbox' ><label for='attrs-30bcbd46-2200-433e-95f6-341eed108174' title='Show/Hide attributes'><svg class='icon xr-icon-file-text2'><use xlink:href='#icon-file-text2'></use></svg></label><input id='data-4423b749-f41b-48fe-893f-b2d5d027fb5b' class='xr-var-data-in' type='checkbox'><label for='data-4423b749-f41b-48fe-893f-b2d5d027fb5b' title='Show/Hide data repr'><svg class='icon xr-icon-database'><use xlink:href='#icon-database'></use></svg></label><div class='xr-var-attrs'><dl class='xr-attrs'><dt><span>long_name :</span></dt><dd>Longitude</dd><dt><span>short_name :</span></dt><dd>longitude</dd><dt><span>standard_name :</span></dt><dd>longitude</dd><dt><span>units :</span></dt><dd>degrees_east</dd></dl></div><div class='xr-var-data'><pre>array([-73.164], dtype=float32)</pre></div></li><li class='xr-var-item'><div class='xr-var-name'><span class='xr-has-index'>time</span></div><div class='xr-var-dims'>(time)</div><div class='xr-var-dtype'>datetime64[ns]</div><div class='xr-var-preview xr-preview'>1975-10-24T12:00:00 ... 2021-01-...</div><input id='attrs-a1fd8806-4d9b-4606-99c8-f610f541efc3' class='xr-var-attrs-in' type='checkbox' ><label for='attrs-a1fd8806-4d9b-4606-99c8-f610f541efc3' title='Show/Hide attributes'><svg class='icon xr-icon-file-text2'><use xlink:href='#icon-file-text2'></use></svg></label><input id='data-912dc89b-afee-433a-b25a-9c7df25e4b63' class='xr-var-data-in' type='checkbox'><label for='data-912dc89b-afee-433a-b25a-9c7df25e4b63' title='Show/Hide data repr'><svg class='icon xr-icon-database'><use xlink:href='#icon-database'></use></svg></label><div class='xr-var-attrs'><dl class='xr-attrs'><dt><span>long_name :</span></dt><dd>Epoch Time</dd><dt><span>short_name :</span></dt><dd>time</dd><dt><span>standard_name :</span></dt><dd>time</dd></dl></div><div class='xr-var-data'><pre>array([&#x27;1975-10-24T12:00:00.000000000&#x27;, &#x27;1975-10-24T13:00:00.000000000&#x27;,\n",
              "       &#x27;1975-10-24T14:00:00.000000000&#x27;, ..., &#x27;2021-01-31T23:30:00.000000000&#x27;,\n",
              "       &#x27;2021-01-31T23:40:00.000000000&#x27;, &#x27;2021-01-31T23:50:00.000000000&#x27;],\n",
              "      dtype=&#x27;datetime64[ns]&#x27;)</pre></div></li></ul></div></li><li class='xr-section-item'><input id='section-a2c0033c-be3b-4fab-b3ed-865cbe9cda0b' class='xr-section-summary-in' type='checkbox'  checked><label for='section-a2c0033c-be3b-4fab-b3ed-865cbe9cda0b' class='xr-section-summary' >Attributes: <span>(4)</span></label><div class='xr-section-inline-details'></div><div class='xr-section-details'><dl class='xr-attrs'><dt><span>long_name :</span></dt><dd>Air Temperature</dd><dt><span>short_name :</span></dt><dd>atmp</dd><dt><span>standard_name :</span></dt><dd>air_temperature</dd><dt><span>units :</span></dt><dd>degree_Celsius</dd></dl></div></li></ul></div></div>"
            ],
            "text/plain": [
              "<xarray.DataArray 'air_temperature' (time: 283817, latitude: 1, longitude: 1)>\n",
              "[283817 values with dtype=float32]\n",
              "Coordinates:\n",
              "  * latitude   (latitude) float32 40.25\n",
              "  * longitude  (longitude) float32 -73.16\n",
              "  * time       (time) datetime64[ns] 1975-10-24T12:00:00 ... 2021-01-31T23:50:00\n",
              "Attributes:\n",
              "    long_name:      Air Temperature\n",
              "    short_name:     atmp\n",
              "    standard_name:  air_temperature\n",
              "    units:          degree_Celsius"
            ]
          },
          "metadata": {},
          "execution_count": 51
        }
      ]
    },
    {
      "cell_type": "code",
      "metadata": {
        "id": "-7BBHVRqb6te"
      },
      "source": [
        "# And one piece of metadata\n",
        "data.air_temperature.long_name"
      ],
      "execution_count": null,
      "outputs": []
    },
    {
      "cell_type": "code",
      "metadata": {
        "id": "OQxdcxzzaq-r"
      },
      "source": [
        "# Now let's make a quick plot\n",
        "data.air_temperature.plot();"
      ],
      "execution_count": null,
      "outputs": []
    },
    {
      "cell_type": "code",
      "metadata": {
        "id": "-bPP4Ue0avNf"
      },
      "source": [
        "# Let's subset the data in time\n",
        "data2 = data.sel(time=slice('2019-01-01','2020-01-01'))"
      ],
      "execution_count": null,
      "outputs": []
    },
    {
      "cell_type": "code",
      "metadata": {
        "id": "Fu6J6e3bawhG"
      },
      "source": [
        "# Let's make that quick plot again\n",
        "data2.air_temperature.plot();"
      ],
      "execution_count": null,
      "outputs": []
    },
    {
      "cell_type": "code",
      "metadata": {
        "id": "dOt2EDY0WXnl"
      },
      "source": [
        "import matplotlib.pyplot as plt"
      ],
      "execution_count": null,
      "outputs": []
    },
    {
      "cell_type": "code",
      "metadata": {
        "id": "Sm-cFGk1PSXR"
      },
      "source": [
        "# We can even plot 2 variables on one graph\n",
        "data2.air_temperature.plot(label=\"Air Temperature\")\n",
        "data2.sea_surface_temperature.plot(label=\"Sea Surface Temperature\")\n",
        "plt.legend();"
      ],
      "execution_count": null,
      "outputs": []
    },
    {
      "cell_type": "markdown",
      "metadata": {
        "id": "11_8VZyGa-J1"
      },
      "source": [
        "Tomorrow, we'll delve a lot more into data visualization and many of the other plotting commands you can use.  But now, it's your turn to create your own plots. \n",
        "\n",
        "Try plotting different:\n",
        "* Variables (see options above)\n",
        "* Time ranges (you will need to reload the dataset)\n",
        "* Different stations (you will need to change the dataset URL). Check out the [NDBC homepage](https://www.ndbc.noaa.gov) for available stations\n",
        "\n",
        "As you create your graphs, try to write *figure captions* that describe what you think is going on."
      ]
    },
    {
      "cell_type": "code",
      "metadata": {
        "id": "DGeLchEtPSgm"
      },
      "source": [
        "# Your Turn: Create some plots "
      ],
      "execution_count": null,
      "outputs": []
    },
    {
      "cell_type": "code",
      "metadata": {
        "id": "43_sS5K4cm85"
      },
      "source": [
        ""
      ],
      "execution_count": null,
      "outputs": []
    },
    {
      "cell_type": "code",
      "metadata": {
        "id": "4ENykXphciuG"
      },
      "source": [
        ""
      ],
      "execution_count": null,
      "outputs": []
    },
    {
      "cell_type": "code",
      "metadata": {
        "id": "sdDkr17McjDd"
      },
      "source": [
        ""
      ],
      "execution_count": null,
      "outputs": []
    },
    {
      "cell_type": "code",
      "metadata": {
        "id": "ZrvA7X25KnDc"
      },
      "source": [
        ""
      ],
      "execution_count": null,
      "outputs": []
    },
    {
      "cell_type": "markdown",
      "metadata": {
        "id": "b5z6araEkYhC"
      },
      "source": [
        "### Additional Intros and References\n",
        "[2019 Data Labs Quick Intro to Pytyon](https://github.com/ooi-data-lab/data-lab-workshops/blob/master/Summer_Examples/Python_Introduction.ipynb)\n",
        "\n",
        "[2018 Python Basics for Matlab Wizards](https://github.com/ooi-data-review/2018-data-workshops/blob/master/chemistry/examples/extras2/Python_Basics_for_Matlab_Wizards.ipynb)\n",
        "\n",
        "[Rowe Getting Started with Python](https://github.com/prowe12/python_resources/blob/master/Introduction_to_python3.ipynb)"
      ]
    }
  ]
}